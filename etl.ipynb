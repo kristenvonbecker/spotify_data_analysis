{
  "nbformat": 4,
  "nbformat_minor": 0,
  "metadata": {
    "colab": {
      "provenance": [],
      "collapsed_sections": [
        "_TOzkixfFV3M",
        "nBKkxapflrS6",
        "pv7dPqgFD2XZ",
        "JKTvahM8D44n"
      ],
      "authorship_tag": "ABX9TyPmCfY9GxxchhEImWwOQaqt",
      "include_colab_link": true
    },
    "kernelspec": {
      "name": "python3",
      "display_name": "Python 3"
    },
    "language_info": {
      "name": "python"
    }
  },
  "cells": [
    {
      "cell_type": "markdown",
      "metadata": {
        "id": "view-in-github",
        "colab_type": "text"
      },
      "source": [
        "<a href=\"https://colab.research.google.com/github/kristenvonbecker/spotify_data_analysis/blob/main/etl.ipynb\" target=\"_parent\"><img src=\"https://colab.research.google.com/assets/colab-badge.svg\" alt=\"Open In Colab\"/></a>"
      ]
    },
    {
      "cell_type": "markdown",
      "source": [
        "# **Spotify Data Analysis, Part 1: The ETL**\n",
        "\n",
        "---\n",
        "\n",
        "\n",
        "\n",
        "\n",
        "by Kristen Beck ([kristenvonbecker.com](https://kristenvonbecker.com))"
      ],
      "metadata": {
        "id": "laxoF-7ASo5a"
      }
    },
    {
      "cell_type": "markdown",
      "source": [
        "This notebook constitutes the first phase of the [Spotify Data Analysis](https://kristenvonbecker.com/projects/spotify-data-analysis/) project: building the dataset. The code which follows can be used to:\n",
        "\n",
        "1. Build a customized Pandas dataframe containing audio feature data for several collections (i.e. playlists) of Spotify tracks.\n",
        "2. Export the dataframe in CSV format to your local machine. This file can then uploaded to the notebook for Part 2: The Analysis."
      ],
      "metadata": {
        "id": "fRZwU-ih4Rrd"
      }
    },
    {
      "cell_type": "markdown",
      "source": [
        "## Getting started"
      ],
      "metadata": {
        "id": "j5XzVRpL4lz5"
      }
    },
    {
      "cell_type": "markdown",
      "source": [
        "In order to use the interactive feature of this notebook, you *must* have a Spotify developer account and API key. If you've already done this, continue on. If not, please follow [these instructions](https://developer.spotify.com/documentation/web-api/tutorials/getting-started#create-an-app) to get a `SPOTIPY_CLIENT_ID` (like a username) and\n",
        "`SPOTIPY_CLIENT_SECRET` (like a password), both of which you'll set as environment variables below."
      ],
      "metadata": {
        "id": "1stfRtDJ3jIv"
      }
    },
    {
      "cell_type": "markdown",
      "source": [
        "### Install & import dependencies"
      ],
      "metadata": {
        "id": "4uMqn1dBaVR9"
      }
    },
    {
      "cell_type": "code",
      "source": [
        "!pip install spotipy"
      ],
      "metadata": {
        "id": "_xfWv49WSSol",
        "colab": {
          "base_uri": "https://localhost:8080/"
        },
        "outputId": "46e13baa-4987-45bb-cbef-9119a270298b"
      },
      "execution_count": null,
      "outputs": [
        {
          "output_type": "stream",
          "name": "stdout",
          "text": [
            "Collecting spotipy\n",
            "  Downloading spotipy-2.23.0-py3-none-any.whl (29 kB)\n",
            "Collecting redis>=3.5.3 (from spotipy)\n",
            "  Downloading redis-5.0.0-py3-none-any.whl (250 kB)\n",
            "\u001b[2K     \u001b[90m━━━━━━━━━━━━━━━━━━━━━━━━━━━━━━━━━━━━━━━\u001b[0m \u001b[32m250.1/250.1 kB\u001b[0m \u001b[31m3.8 MB/s\u001b[0m eta \u001b[36m0:00:00\u001b[0m\n",
            "\u001b[?25hRequirement already satisfied: requests>=2.25.0 in /usr/local/lib/python3.10/dist-packages (from spotipy) (2.31.0)\n",
            "Requirement already satisfied: six>=1.15.0 in /usr/local/lib/python3.10/dist-packages (from spotipy) (1.16.0)\n",
            "Requirement already satisfied: urllib3>=1.26.0 in /usr/local/lib/python3.10/dist-packages (from spotipy) (2.0.4)\n",
            "Requirement already satisfied: async-timeout>=4.0.2 in /usr/local/lib/python3.10/dist-packages (from redis>=3.5.3->spotipy) (4.0.3)\n",
            "Requirement already satisfied: charset-normalizer<4,>=2 in /usr/local/lib/python3.10/dist-packages (from requests>=2.25.0->spotipy) (3.2.0)\n",
            "Requirement already satisfied: idna<4,>=2.5 in /usr/local/lib/python3.10/dist-packages (from requests>=2.25.0->spotipy) (3.4)\n",
            "Requirement already satisfied: certifi>=2017.4.17 in /usr/local/lib/python3.10/dist-packages (from requests>=2.25.0->spotipy) (2023.7.22)\n",
            "Installing collected packages: redis, spotipy\n",
            "Successfully installed redis-5.0.0 spotipy-2.23.0\n"
          ]
        }
      ]
    },
    {
      "cell_type": "code",
      "execution_count": null,
      "metadata": {
        "id": "zvSpyx2ISEco"
      },
      "outputs": [],
      "source": [
        "# for import/export in Colab\n",
        "from google.colab import files\n",
        "import io\n",
        "\n",
        "# for connecting to Spotify Web API\n",
        "import spotipy\n",
        "from spotipy.oauth2 import SpotifyClientCredentials\n",
        "\n",
        "# for handling data\n",
        "import json\n",
        "import pandas as pd\n",
        "pd.options.display.float_format = '{:.3f}'.format\n",
        "import numpy as np\n",
        "from datetime import datetime\n",
        "import random"
      ]
    },
    {
      "cell_type": "markdown",
      "source": [
        "### Configure and authorize Spotipy client"
      ],
      "metadata": {
        "id": "_TOzkixfFV3M"
      }
    },
    {
      "cell_type": "markdown",
      "source": [
        "Set environment variables:"
      ],
      "metadata": {
        "id": "8rPAofS5S-MN"
      }
    },
    {
      "cell_type": "code",
      "source": [
        "# ENTER YOUR SPOTIFY CLIENT CREDENTIALS HERE:\n",
        "%env SPOTIPY_CLIENT_ID=#yours goes here\n",
        "%env SPOTIPY_CLIENT_SECRET=#yours goes here\n",
        "\n",
        "# it's okay to leave this as is\n",
        "%env SPOTIPY_REDIRECT_URI=http://localhost:8888/callback"
      ],
      "metadata": {
        "id": "lsZPzshVScDo"
      },
      "execution_count": null,
      "outputs": []
    },
    {
      "cell_type": "markdown",
      "source": [
        "Create Spotipy client instance:"
      ],
      "metadata": {
        "id": "8FUW-RLCTA_m"
      }
    },
    {
      "cell_type": "code",
      "source": [
        "# client credentials flow\n",
        "# https://spotipy.readthedocs.io/en/2.22.1/#client-credentials-flow\n",
        "\n",
        "auth_manager = SpotifyClientCredentials()"
      ],
      "metadata": {
        "id": "yTX4KCVRDuGR"
      },
      "execution_count": null,
      "outputs": []
    },
    {
      "cell_type": "code",
      "source": [
        "# this step initializes the Spotipy client\n",
        "# in case of rate limiting, adjust values of request_timeout and retries\n",
        "\n",
        "sp = spotipy.Spotify(auth_manager=auth_manager, requests_timeout=10, retries=5)"
      ],
      "metadata": {
        "id": "fztrHTnZIXrd"
      },
      "execution_count": null,
      "outputs": []
    },
    {
      "cell_type": "markdown",
      "source": [
        "In the code below, we'll use this Spotipy API client to request playlist- and track-level data from Spotify using one of the following endpoints: `sp.user_playlists()`, `sp.featured_playlists()`, `sp.search()`, `sp.playlists()`, `sp.tracks()`, and `sp.audio_features()`. For more information about these endpoints (or the Spotipy client module), see [the docs](https://spotipy.readthedocs.io/en/2.22.1/#module-spotipy.client)."
      ],
      "metadata": {
        "id": "0ksyzlVT7eQk"
      }
    },
    {
      "cell_type": "markdown",
      "source": [
        "## Defining scope of data"
      ],
      "metadata": {
        "id": "houWPDHn4yzB"
      }
    },
    {
      "cell_type": "markdown",
      "source": [
        "Before beginning to build the dataframe, we need to decide which data should be included in our study. This project is only intended to provide an overview of various data visualization techniques, so we have a lot of freedom in regards to data curation. Therefore, we'll choose our list of tracks to include in the data by simply selecting [playlists](https://support.spotify.com/us/article/find-playlists/) of interest. This approach is advantageous for two reasons:\n",
        "- The `sp.playlist()` endpoint will return details (incuding track IDs) for a playlist which is specified by its playlist ID.\n",
        "- A playlist is a natural grouping of tracks (according to genre, etc.), so identifying tracks in this manner introduces a way to label the data.\n",
        "- Spotify maintains *thousands* of curated playlists that we can query by name using `sp.search(type='playlist')`.\n",
        "\n",
        "As a minimum, we will include a handful playlists which are currently promoted by Spotify (and will therefore tend to include more popular tracks). The user (you!) will also have the opporutnity in this step to include additional Spotify playlists in the analysis."
      ],
      "metadata": {
        "id": "_oPLOzq6uZ1y"
      }
    },
    {
      "cell_type": "markdown",
      "source": [
        "### Scripts"
      ],
      "metadata": {
        "id": "AvcvIH5kG_yo"
      }
    },
    {
      "cell_type": "markdown",
      "source": [
        "First we define the main functions which we'll use below to build lists of track IDs for given playlist IDs.\n",
        "\n",
        "The function `get_playlist_tracks()` takes `playlists`, a list of playlist objects (which are dictionaries,) and a `name` for the grouping and returns a dictionary whose keys are playlist names and whose values are track IDs associated to a given playlist."
      ],
      "metadata": {
        "id": "MFmm3XmIbtJx"
      }
    },
    {
      "cell_type": "code",
      "source": [
        "def get_playlist_tracks(playlists, name):\n",
        "  tracks = {}\n",
        "\n",
        "  for item in playlists:\n",
        "    playlist_name = item['name'].strip()\n",
        "    playlist_id = item['id']\n",
        "    playlist = sp.playlist(playlist_id)\n",
        "    playlist_track_ids = [x['track']['id'] for x in playlist['tracks']['items']]\n",
        "    tracks[playlist_name] = playlist_track_ids\n",
        "\n",
        "  heading = name\n",
        "  print(f\"{heading}\")\n",
        "  print(\"-\"*len(heading))\n",
        "  for playlist, track_ids in tracks.items():\n",
        "    num_tracks = len(track_ids)\n",
        "    print(f\"{playlist}: {num_tracks} tracks\")\n",
        "  if not tracks:\n",
        "    print(\"N/A\")\n",
        "  print()\n",
        "\n",
        "  return tracks"
      ],
      "metadata": {
        "id": "ExqICFaDXoD_"
      },
      "execution_count": null,
      "outputs": []
    },
    {
      "cell_type": "markdown",
      "source": [
        "The function `add_playlists()` starts an interactive console session in order to gather any additional playlists the user wishes to include in the study. Each playlist name entered is queried using the `sp.search()` endpoint. Results, ordered by relevance, are returned to the user for confirmation before new items are added."
      ],
      "metadata": {
        "id": "eC7MUhLKFnW9"
      }
    },
    {
      "cell_type": "code",
      "source": [
        "def add_playlists():\n",
        "\n",
        "  added_playlists = []\n",
        "\n",
        "  loop = True\n",
        "  while loop:\n",
        "    query = input(\"\\n----------\\n\\nEnter playlist name (RETURN to quit): \")\n",
        "\n",
        "    if not query:\n",
        "      loop = False\n",
        "      continue\n",
        "\n",
        "    results = sp.search(query, type='playlist')\n",
        "\n",
        "    for item in results['playlists']['items']:\n",
        "      print(\"\\n----------\\n\")\n",
        "      print(f\"{item['name']}: {item['description']}\")\n",
        "      print(f\"Owner: {item['owner']['display_name']}\\n\")\n",
        "\n",
        "      confirm = input(\"Include in analysis? (Y, N, or RETURN to quit) \")\n",
        "\n",
        "      if confirm[0].lower() == 'y':\n",
        "        added_playlists.append(item)\n",
        "        break\n",
        "\n",
        "      elif confirm[0].lower() == 'n':\n",
        "        continue\n",
        "\n",
        "      else:\n",
        "        break\n",
        "\n",
        "  print(f\"\\n----------\\n\\nRecorded {len(added_playlists)} playlist IDs\\n\")\n",
        "\n",
        "  return added_playlists"
      ],
      "metadata": {
        "id": "b9n4t0GSfoNP"
      },
      "execution_count": null,
      "outputs": []
    },
    {
      "cell_type": "markdown",
      "source": [
        "### Getting the track IDs"
      ],
      "metadata": {
        "id": "6ntr_EMztoRd"
      }
    },
    {
      "cell_type": "markdown",
      "source": [
        "Now we use the scripts defined above to build a dictionary which contains track IDs by playlist name.\n",
        "\n",
        "Get track IDs for playlists returned by `sp.user_playlists('spotify')`:"
      ],
      "metadata": {
        "id": "9SatFb2tqk5H"
      }
    },
    {
      "cell_type": "code",
      "source": [
        "spotify_playlists = sp.user_playlists('spotify', limit=None)['items']\n",
        "spotify_playlist_tracks = get_playlist_tracks(spotify_playlists, \"Top Spotify playlists\")"
      ],
      "metadata": {
        "colab": {
          "base_uri": "https://localhost:8080/"
        },
        "id": "m7zZvcom8DJf",
        "outputId": "e4064bb1-791b-4ed5-99aa-6859debfe07c"
      },
      "execution_count": null,
      "outputs": [
        {
          "output_type": "stream",
          "name": "stdout",
          "text": [
            "Top Spotify playlists\n",
            "---------------------\n",
            "Today's Top Hits: 50 tracks\n",
            "RapCaviar: 50 tracks\n",
            "Hot Country: 50 tracks\n",
            "Viva Latino: 50 tracks\n",
            "New Music Friday: 100 tracks\n",
            "Peaceful Piano: 100 tracks\n",
            "Are & Be: 50 tracks\n",
            "Rock Classics: 100 tracks\n",
            "mint: 75 tracks\n",
            "Rock This: 50 tracks\n",
            "just hits: 100 tracks\n",
            "All Out 2000s: 100 tracks\n",
            "All Out 90s: 100 tracks\n",
            "All Out 80s: 100 tracks\n",
            "All Out 70s: 100 tracks\n",
            "All Out 60s: 100 tracks\n",
            "All Out 50s: 100 tracks\n",
            "Soft Pop Hits: 100 tracks\n",
            "Signed XOXO: 100 tracks\n",
            "\n"
          ]
        }
      ]
    },
    {
      "cell_type": "markdown",
      "source": [
        "Get track IDs for Spotify's featured playlists, returned by `sp.featured_playlists()`, which are updated daily:"
      ],
      "metadata": {
        "id": "yKcHwt7Oq9vr"
      }
    },
    {
      "cell_type": "code",
      "source": [
        "featured_playlists = sp.featured_playlists()['playlists']['items']\n",
        "featured_playlist_tracks = get_playlist_tracks(featured_playlists, \"Featured Spotify playlists\")"
      ],
      "metadata": {
        "colab": {
          "base_uri": "https://localhost:8080/"
        },
        "id": "Yvbfa2Cg8e1n",
        "outputId": "7d800f91-7069-491f-95a1-405dc067d670"
      },
      "execution_count": null,
      "outputs": [
        {
          "output_type": "stream",
          "name": "stdout",
          "text": [
            "Featured Spotify playlists\n",
            "--------------------------\n",
            "Afternoon Acoustic: 100 tracks\n",
            "Just Good Music: 70 tracks\n",
            "Indigo: 100 tracks\n",
            "Pumped Pop: 75 tracks\n",
            "Feel Good Classical: 49 tracks\n",
            "Rock Classics: 100 tracks\n",
            "Stress Relief: 100 tracks\n",
            "Jazz Vibes: 100 tracks\n",
            "Nu-Funk: 100 tracks\n",
            "Fresh & Chill: 82 tracks\n",
            "\n"
          ]
        }
      ]
    },
    {
      "cell_type": "markdown",
      "source": [
        "Ask the user for additional playlists to include, then get track IDs for these playlists:"
      ],
      "metadata": {
        "id": "LK3ztU5irBJ7"
      }
    },
    {
      "cell_type": "code",
      "source": [
        "added_playlists = add_playlists()\n",
        "added_playlist_tracks = get_playlist_tracks(added_playlists, \"User-specified playlists\")"
      ],
      "metadata": {
        "colab": {
          "base_uri": "https://localhost:8080/"
        },
        "id": "hdhhAAq7-ozt",
        "outputId": "0f0ba254-4217-45ad-b22e-e0c26701e294"
      },
      "execution_count": null,
      "outputs": [
        {
          "output_type": "stream",
          "name": "stdout",
          "text": [
            "\n",
            "----------\n",
            "\n",
            "Enter playlist name (RETURN to quit): classical garden\n",
            "\n",
            "----------\n",
            "\n",
            "Classical Garden: The perfect classical tunes for pruning, planting, and putting your feet up.\n",
            "Owner: Spotify\n",
            "\n",
            "Include in analysis? (Y, N, or RETURN to quit) y\n",
            "\n",
            "----------\n",
            "\n",
            "Enter playlist name (RETURN to quit): melantronic\n",
            "\n",
            "----------\n",
            "\n",
            "Melantronic: Beautiful electronic music for melancholy moments.\n",
            "Owner: Spotify\n",
            "\n",
            "Include in analysis? (Y, N, or RETURN to quit) y\n",
            "\n",
            "----------\n",
            "\n",
            "Enter playlist name (RETURN to quit): music for plants\n",
            "\n",
            "----------\n",
            "\n",
            "Music for Plants: Mellow vibrations for green leaves, green thumbs and green ears.\n",
            "Owner: Spotify\n",
            "\n",
            "Include in analysis? (Y, N, or RETURN to quit) y\n",
            "\n",
            "----------\n",
            "\n",
            "Enter playlist name (RETURN to quit): \n",
            "\n",
            "----------\n",
            "\n",
            "Recorded 3 playlist IDs\n",
            "\n",
            "User-specified playlists\n",
            "------------------------\n",
            "Classical Garden: 51 tracks\n",
            "Melantronic: 50 tracks\n",
            "Music for Plants: 100 tracks\n",
            "\n"
          ]
        }
      ]
    },
    {
      "cell_type": "markdown",
      "source": [
        "Combine data into a single dictionary of track IDs by playlist name:"
      ],
      "metadata": {
        "id": "KYn2Lx2kWFUy"
      }
    },
    {
      "cell_type": "code",
      "source": [
        "playlist_tracks = spotify_playlist_tracks | featured_playlist_tracks # | added_playlist_tracks\n",
        "\n",
        "print(\"Joined data for:\")\n",
        "print(f\" Top Spotify playlists ({len(spotify_playlist_tracks)})\")\n",
        "print(f\" Featured Spotify playlists ({len(featured_playlist_tracks)})\")\n",
        "# print(f\" User-specifified playlists ({len(added_playlist_tracks)})\")\n",
        "print(f\"\\nSaved track IDs for {len(playlist_tracks)} unique playlists\")"
      ],
      "metadata": {
        "colab": {
          "base_uri": "https://localhost:8080/"
        },
        "id": "awkR4IPFPHda",
        "outputId": "f7c9122b-d9d4-44f3-b833-61f6052a45be"
      },
      "execution_count": null,
      "outputs": [
        {
          "output_type": "stream",
          "name": "stdout",
          "text": [
            "Joined data for:\n",
            " Top Spotify playlists (19)\n",
            " Featured Spotify playlists (10)\n",
            "\n",
            "Saved track IDs for 28 unique playlists\n"
          ]
        }
      ]
    },
    {
      "cell_type": "markdown",
      "source": [
        "## Building the dataframe"
      ],
      "metadata": {
        "id": "DeOGh0jsqmF3"
      }
    },
    {
      "cell_type": "markdown",
      "source": [
        "Next, we use the lists of track IDs by playlist that were created in the last step (and packaged as `playlist_tracks`) in order to query batches of tracks IDs from the Spotify API using the endpoints `sp.tracks()` and `sp.audio_features()`. As track-level data is collected, cleaned, coded, and loaded into a dataframe, the relevant playlist(s) for each track are recorded in a separate field, `playlists`. For a description of the track-level fields which are collected in this step, please refer to the file *data_description.txt*."
      ],
      "metadata": {
        "id": "2bAsbmNCrzQY"
      }
    },
    {
      "cell_type": "markdown",
      "source": [
        "Initialize empty data structures:"
      ],
      "metadata": {
        "id": "t7I8-7OdnsHR"
      }
    },
    {
      "cell_type": "code",
      "source": [
        "keys = [\n",
        "    'id',\n",
        "    'name',\n",
        "    'artists',\n",
        "    # 'genres',\n",
        "    'album',\n",
        "    'images',\n",
        "    'image_sizes',\n",
        "    'release_dt',\n",
        "    'duration',\n",
        "    'popularity',\n",
        "    'explicit',\n",
        "    'dance',\n",
        "    'energy',\n",
        "    'loud',\n",
        "    'speech',\n",
        "    'acoustic',\n",
        "    'instrument',\n",
        "    'live',\n",
        "    'valence',\n",
        "    'tempo',\n",
        "    'tempo_conf',\n",
        "    'key',\n",
        "    'key_conf',\n",
        "    'mode',\n",
        "    'mode_conf',\n",
        "    'time_sig',\n",
        "    'time_sig_conf',\n",
        "    'playlist'\n",
        "]\n",
        "\n",
        "def init_df():\n",
        "  track_df = pd.DataFrame(columns=keys)\n",
        "  return track_df\n",
        "\n",
        "def init_dict():\n",
        "  track_dict = {key: [] for key in keys}\n",
        "  return track_dict"
      ],
      "metadata": {
        "id": "z3yVzzlcmoF-"
      },
      "execution_count": null,
      "outputs": []
    },
    {
      "cell_type": "markdown",
      "source": [
        "Get track-level data for all tracks on playlist:"
      ],
      "metadata": {
        "id": "GqXDn4yujHG7"
      }
    },
    {
      "cell_type": "code",
      "source": [
        "def get_track_data(track_ids, playlist=None):\n",
        "\n",
        "  num_tracks = len(track_ids)\n",
        "  track_data = []\n",
        "  audio_features_data = []\n",
        "  audio_analysis_data = []\n",
        "  num_calls = 0\n",
        "\n",
        "  for _ in range(int(np.ceil(num_tracks/50))):\n",
        "    track_results = sp.tracks(track_ids[50*num_calls:50*num_calls+50])\n",
        "    track_data.extend(track_results['tracks'])\n",
        "\n",
        "    audio_features_results = sp.audio_features(track_ids[50*num_calls:50*num_calls+50])\n",
        "    audio_features_data.extend(audio_features_results)\n",
        "\n",
        "    num_calls += 1\n",
        "\n",
        "  track_dict = init_dict()\n",
        "\n",
        "  for i in range(num_tracks):\n",
        "    audio_analysis_results = sp.audio_analysis(track_ids[i])\n",
        "    audio_analysis_data.append(audio_analysis_results['track'])\n",
        "\n",
        "    track_dict['id'].append(track_data[i]['id'])\n",
        "    track_dict['name'].append(track_data[i]['name'])\n",
        "    track_dict['artists'].append([artist['name'] for artist in track_data[i]['artists']])\n",
        "    track_dict['album'].append(track_data[i]['album']['name'])\n",
        "    track_dict['images'].append([image['url'] for image in track_data[i]['album']['images']])\n",
        "    image_sizes = zip(\n",
        "          [image['height'] for image in track_data[i]['album']['images']],\n",
        "          [image['width'] for image in track_data[i]['album']['images']]\n",
        "        )\n",
        "    track_dict['image_sizes'].append([(h, w) for h, w in image_sizes])\n",
        "    track_dict['release_dt'].append(track_data[i]['album']['release_date'])\n",
        "    track_dict['duration'].append(audio_analysis_data[i]['duration'])\n",
        "    track_dict['popularity'].append(track_data[i]['popularity'])\n",
        "    track_dict['explicit'].append(track_data[i]['explicit'])\n",
        "    track_dict['dance'].append(audio_features_data[i]['danceability'])\n",
        "    track_dict['energy'].append(audio_features_data[i]['energy'])\n",
        "    track_dict['loud'].append(audio_features_data[i]['loudness'])\n",
        "    track_dict['speech'].append(audio_features_data[i]['speechiness'])\n",
        "    track_dict['acoustic'].append(audio_features_data[i]['acousticness'])\n",
        "    track_dict['instrument'].append(audio_features_data[i]['instrumentalness'])\n",
        "    track_dict['live'].append(audio_features_data[i]['liveness'])\n",
        "    track_dict['valence'].append(audio_features_data[i]['valence'])\n",
        "    track_dict['tempo'].append(audio_analysis_data[i]['tempo'])\n",
        "    track_dict['tempo_conf'].append(audio_analysis_data[i]['tempo_confidence'])\n",
        "    track_dict['key'].append(audio_analysis_data[i]['key'])\n",
        "    track_dict['key_conf'].append(audio_analysis_data[i]['key_confidence'])\n",
        "    track_dict['mode'].append(audio_analysis_data[i]['mode'])\n",
        "    track_dict['mode_conf'].append(audio_analysis_data[i]['mode_confidence'])\n",
        "    track_dict['time_sig'].append(audio_analysis_data[i]['time_signature'])\n",
        "    track_dict['time_sig_conf'].append(audio_analysis_data[i]['time_signature_confidence'])\n",
        "    track_dict['playlist'].append(playlist)\n",
        "\n",
        "  track_df = pd.DataFrame.from_dict(track_dict)\n",
        "\n",
        "  track_df['release_dt'] = pd.to_datetime(track_df['release_dt'])\n",
        "  track_df['popularity'] = pd.to_numeric(track_df['popularity'])\n",
        "  track_df['explicit'] = track_df['explicit'].astype('boolean')\n",
        "  track_df['key'] = pd.Categorical(track_df['key'],\n",
        "                                   categories=[0, 1, 2, 3, 4, 5, 6, 7, 8, 9, 10, 11],\n",
        "                                   ordered=True)\n",
        "  track_df['mode'] = pd.Categorical(track_df['mode'],\n",
        "                                   categories=[0, 1],\n",
        "                                   ordered=True)\n",
        "  track_df['time_sig'] = track_df['time_sig'].astype('category')\n",
        "\n",
        "  return track_df"
      ],
      "metadata": {
        "id": "CKwCqvnxmwNs"
      },
      "execution_count": null,
      "outputs": []
    },
    {
      "cell_type": "markdown",
      "source": [
        "Load track-level data into a dataframe:"
      ],
      "metadata": {
        "id": "H2xkjcFMdazu"
      }
    },
    {
      "cell_type": "code",
      "source": [
        "def build_track_df():\n",
        "\n",
        "  track_df = init_df()\n",
        "\n",
        "  playlists = []\n",
        "\n",
        "  for playlist in playlist_tracks.keys():\n",
        "\n",
        "    playlists.append(playlist)\n",
        "\n",
        "    exist_ids = [id for id in playlist_tracks[playlist] if id in track_df['id'].values]\n",
        "    mask = [track_df['id'].iloc[i] in exist_ids for i in track_df.index]\n",
        "    add_playlist = [\"|\" + playlist if item else \"\" for item in mask]\n",
        "    track_df['playlist'] += add_playlist\n",
        "\n",
        "    new_ids = [id for id in playlist_tracks[playlist] if id not in exist_ids]\n",
        "\n",
        "    try:\n",
        "      new_tracks = get_track_data(new_ids, playlist=playlist)\n",
        "\n",
        "    except ConnectionError:\n",
        "\n",
        "      try:\n",
        "        new_tracks = get_track_data(new_ids)\n",
        "\n",
        "      except ConnectionError:\n",
        "        print(f\"Unable to get tracks from playlist {playlist}\")\n",
        "        continue\n",
        "\n",
        "    track_df = pd.concat([track_df, new_tracks], ignore_index=True)\n",
        "\n",
        "  # playlist_dummies = track_df['playlist'].str.get_dummies()\n",
        "  # track_df = pd.concat([track_df, playlist_dummies], axis=1).drop(columns=['playlist'])\n",
        "\n",
        "  return track_df, playlists"
      ],
      "metadata": {
        "id": "IC1eyrTceSJK"
      },
      "execution_count": null,
      "outputs": []
    },
    {
      "cell_type": "markdown",
      "source": [
        "Build Pandas dataframe object:"
      ],
      "metadata": {
        "id": "ii86qnm4fhdK"
      }
    },
    {
      "cell_type": "code",
      "source": [
        "track_df, playlists = build_track_df()"
      ],
      "metadata": {
        "id": "1e6CbpGb_8Zt"
      },
      "execution_count": null,
      "outputs": []
    },
    {
      "cell_type": "markdown",
      "source": [
        "## Investigating dataframe"
      ],
      "metadata": {
        "id": "baFwyDyhsgSW"
      }
    },
    {
      "cell_type": "markdown",
      "source": [
        "Print dataframe column names and datatypes:"
      ],
      "metadata": {
        "id": "Q4MAZTWEsnzN"
      }
    },
    {
      "cell_type": "code",
      "source": [
        "track_df.info()"
      ],
      "metadata": {
        "colab": {
          "base_uri": "https://localhost:8080/"
        },
        "id": "EqOssglWtrTH",
        "outputId": "b79e6558-880f-441a-d309-b8ac15d4f630"
      },
      "execution_count": null,
      "outputs": [
        {
          "output_type": "stream",
          "name": "stdout",
          "text": [
            "<class 'pandas.core.frame.DataFrame'>\n",
            "RangeIndex: 2097 entries, 0 to 2096\n",
            "Data columns (total 55 columns):\n",
            " #   Column             Non-Null Count  Dtype         \n",
            "---  ------             --------------  -----         \n",
            " 0   id                 2097 non-null   object        \n",
            " 1   name               2097 non-null   object        \n",
            " 2   artists            2097 non-null   object        \n",
            " 3   album              2097 non-null   object        \n",
            " 4   images             2097 non-null   object        \n",
            " 5   image_sizes        2097 non-null   object        \n",
            " 6   release_dt         2097 non-null   datetime64[ns]\n",
            " 7   duration           2097 non-null   float64       \n",
            " 8   popularity         2097 non-null   object        \n",
            " 9   explicit           2097 non-null   boolean       \n",
            " 10  dance              2097 non-null   float64       \n",
            " 11  energy             2097 non-null   float64       \n",
            " 12  loud               2097 non-null   float64       \n",
            " 13  speech             2097 non-null   float64       \n",
            " 14  acoustic           2097 non-null   float64       \n",
            " 15  instrument         2097 non-null   float64       \n",
            " 16  live               2097 non-null   float64       \n",
            " 17  valence            2097 non-null   float64       \n",
            " 18  tempo              2097 non-null   float64       \n",
            " 19  tempo_conf         2097 non-null   float64       \n",
            " 20  key                2097 non-null   category      \n",
            " 21  key_conf           2097 non-null   float64       \n",
            " 22  mode               2097 non-null   category      \n",
            " 23  mode_conf          2097 non-null   float64       \n",
            " 24  time_sig           2097 non-null   int64         \n",
            " 25  time_sig_conf      2097 non-null   float64       \n",
            " 26  'fit check         2097 non-null   int64         \n",
            " 27  70s Ballads        2097 non-null   int64         \n",
            " 28  All Out 2000s      2097 non-null   int64         \n",
            " 29  All Out 50s        2097 non-null   int64         \n",
            " 30  All Out 60s        2097 non-null   int64         \n",
            " 31  All Out 70s        2097 non-null   int64         \n",
            " 32  All Out 80s        2097 non-null   int64         \n",
            " 33  All Out 90s        2097 non-null   int64         \n",
            " 34  Are & Be           2097 non-null   int64         \n",
            " 35  Chilled R&B        2097 non-null   int64         \n",
            " 36  Hot Country        2097 non-null   int64         \n",
            " 37  Indie Pop          2097 non-null   int64         \n",
            " 38  Jazz Vibes         2097 non-null   int64         \n",
            " 39  Mellow Classics    2097 non-null   int64         \n",
            " 40  New Music Friday   2097 non-null   int64         \n",
            " 41  POLLEN             2097 non-null   int64         \n",
            " 42  Peace Of Mind      2097 non-null   int64         \n",
            " 43  Peaceful Piano     2097 non-null   int64         \n",
            " 44  RapCaviar          2097 non-null   int64         \n",
            " 45  Rock Classics      2097 non-null   int64         \n",
            " 46  Rock This          2097 non-null   int64         \n",
            " 47  Signed XOXO        2097 non-null   int64         \n",
            " 48  Soft Pop Hits      2097 non-null   int64         \n",
            " 49  Spilled Ink        2097 non-null   int64         \n",
            " 50  Today's Top Hits   2097 non-null   int64         \n",
            " 51  Top Gaming Tracks  2097 non-null   int64         \n",
            " 52  Viva Latino        2097 non-null   int64         \n",
            " 53  just hits          2097 non-null   int64         \n",
            " 54  mint               2097 non-null   int64         \n",
            "dtypes: boolean(1), category(2), datetime64[ns](1), float64(14), int64(30), object(7)\n",
            "memory usage: 860.7+ KB\n"
          ]
        }
      ]
    },
    {
      "cell_type": "markdown",
      "source": [
        "Print the first few rows of the dataframe:"
      ],
      "metadata": {
        "id": "3tOOYSb9su0c"
      }
    },
    {
      "cell_type": "code",
      "source": [
        "track_df.head()"
      ],
      "metadata": {
        "colab": {
          "base_uri": "https://localhost:8080/",
          "height": 585
        },
        "id": "Sqsy1e8ct1cp",
        "outputId": "0d6b74cf-9406-4b81-ffe9-c0add41f7d55"
      },
      "execution_count": null,
      "outputs": [
        {
          "output_type": "execute_result",
          "data": {
            "text/plain": [
              "                       id                                     name  \\\n",
              "0  2gyxAWHebV7xPYVxqoi86f                            get him back!   \n",
              "1  2IGMVunIBsBLtEQyoI1Mu7                       Paint The Town Red   \n",
              "2  1vYXt7VSjH9JIM5oRRo7vA  Dance The Night - From Barbie The Album   \n",
              "3  1BxfuPKGuaTgP7aM0Bbdwr                             Cruel Summer   \n",
              "4  7x9aauaA9cu6tyfpHnqDLo      Seven (feat. Latto) (Explicit Ver.)   \n",
              "\n",
              "              artists                                    album  \\\n",
              "0    [Olivia Rodrigo]                                     GUTS   \n",
              "1          [Doja Cat]                       Paint The Town Red   \n",
              "2          [Dua Lipa]  Dance The Night (From Barbie The Album)   \n",
              "3      [Taylor Swift]                                    Lover   \n",
              "4  [Jung Kook, Latto]                      Seven (feat. Latto)   \n",
              "\n",
              "                                              images  \\\n",
              "0  [https://i.scdn.co/image/ab67616d0000b273e8525...   \n",
              "1  [https://i.scdn.co/image/ab67616d0000b2737acee...   \n",
              "2  [https://i.scdn.co/image/ab67616d0000b2737dd3b...   \n",
              "3  [https://i.scdn.co/image/ab67616d0000b273e787c...   \n",
              "4  [https://i.scdn.co/image/ab67616d0000b273bf5cc...   \n",
              "\n",
              "                          image_sizes release_dt  duration popularity  \\\n",
              "0  [(640, 640), (300, 300), (64, 64)] 2023-09-08   211.141         80   \n",
              "1  [(640, 640), (300, 300), (64, 64)] 2023-08-04   231.750         99   \n",
              "2  [(640, 640), (300, 300), (64, 64)] 2023-05-25   176.579         97   \n",
              "3  [(640, 640), (300, 300), (64, 64)] 2019-08-23   178.427        100   \n",
              "4  [(640, 640), (300, 300), (64, 64)] 2023-07-14   184.400         99   \n",
              "\n",
              "   explicit  ...  Rock Classics  Rock This  Signed XOXO  Soft Pop Hits  \\\n",
              "0      True  ...              0          0            0              0   \n",
              "1      True  ...              0          0            1              0   \n",
              "2     False  ...              0          0            0              0   \n",
              "3     False  ...              0          0            0              0   \n",
              "4      True  ...              0          0            0              0   \n",
              "\n",
              "   Spilled Ink  Today's Top Hits  Top Gaming Tracks  Viva Latino  just hits  \\\n",
              "0            0                 1                  0            0          1   \n",
              "1            0                 1                  0            0          1   \n",
              "2            0                 1                  0            0          1   \n",
              "3            0                 1                  0            0          0   \n",
              "4            0                 1                  0            0          0   \n",
              "\n",
              "   mint  \n",
              "0     0  \n",
              "1     0  \n",
              "2     0  \n",
              "3     0  \n",
              "4     0  \n",
              "\n",
              "[5 rows x 55 columns]"
            ],
            "text/html": [
              "\n",
              "  <div id=\"df-b1dafb58-c9c6-4099-8728-f51db5ffc9ca\" class=\"colab-df-container\">\n",
              "    <div>\n",
              "<style scoped>\n",
              "    .dataframe tbody tr th:only-of-type {\n",
              "        vertical-align: middle;\n",
              "    }\n",
              "\n",
              "    .dataframe tbody tr th {\n",
              "        vertical-align: top;\n",
              "    }\n",
              "\n",
              "    .dataframe thead th {\n",
              "        text-align: right;\n",
              "    }\n",
              "</style>\n",
              "<table border=\"1\" class=\"dataframe\">\n",
              "  <thead>\n",
              "    <tr style=\"text-align: right;\">\n",
              "      <th></th>\n",
              "      <th>id</th>\n",
              "      <th>name</th>\n",
              "      <th>artists</th>\n",
              "      <th>album</th>\n",
              "      <th>images</th>\n",
              "      <th>image_sizes</th>\n",
              "      <th>release_dt</th>\n",
              "      <th>duration</th>\n",
              "      <th>popularity</th>\n",
              "      <th>explicit</th>\n",
              "      <th>...</th>\n",
              "      <th>Rock Classics</th>\n",
              "      <th>Rock This</th>\n",
              "      <th>Signed XOXO</th>\n",
              "      <th>Soft Pop Hits</th>\n",
              "      <th>Spilled Ink</th>\n",
              "      <th>Today's Top Hits</th>\n",
              "      <th>Top Gaming Tracks</th>\n",
              "      <th>Viva Latino</th>\n",
              "      <th>just hits</th>\n",
              "      <th>mint</th>\n",
              "    </tr>\n",
              "  </thead>\n",
              "  <tbody>\n",
              "    <tr>\n",
              "      <th>0</th>\n",
              "      <td>2gyxAWHebV7xPYVxqoi86f</td>\n",
              "      <td>get him back!</td>\n",
              "      <td>[Olivia Rodrigo]</td>\n",
              "      <td>GUTS</td>\n",
              "      <td>[https://i.scdn.co/image/ab67616d0000b273e8525...</td>\n",
              "      <td>[(640, 640), (300, 300), (64, 64)]</td>\n",
              "      <td>2023-09-08</td>\n",
              "      <td>211.141</td>\n",
              "      <td>80</td>\n",
              "      <td>True</td>\n",
              "      <td>...</td>\n",
              "      <td>0</td>\n",
              "      <td>0</td>\n",
              "      <td>0</td>\n",
              "      <td>0</td>\n",
              "      <td>0</td>\n",
              "      <td>1</td>\n",
              "      <td>0</td>\n",
              "      <td>0</td>\n",
              "      <td>1</td>\n",
              "      <td>0</td>\n",
              "    </tr>\n",
              "    <tr>\n",
              "      <th>1</th>\n",
              "      <td>2IGMVunIBsBLtEQyoI1Mu7</td>\n",
              "      <td>Paint The Town Red</td>\n",
              "      <td>[Doja Cat]</td>\n",
              "      <td>Paint The Town Red</td>\n",
              "      <td>[https://i.scdn.co/image/ab67616d0000b2737acee...</td>\n",
              "      <td>[(640, 640), (300, 300), (64, 64)]</td>\n",
              "      <td>2023-08-04</td>\n",
              "      <td>231.750</td>\n",
              "      <td>99</td>\n",
              "      <td>True</td>\n",
              "      <td>...</td>\n",
              "      <td>0</td>\n",
              "      <td>0</td>\n",
              "      <td>1</td>\n",
              "      <td>0</td>\n",
              "      <td>0</td>\n",
              "      <td>1</td>\n",
              "      <td>0</td>\n",
              "      <td>0</td>\n",
              "      <td>1</td>\n",
              "      <td>0</td>\n",
              "    </tr>\n",
              "    <tr>\n",
              "      <th>2</th>\n",
              "      <td>1vYXt7VSjH9JIM5oRRo7vA</td>\n",
              "      <td>Dance The Night - From Barbie The Album</td>\n",
              "      <td>[Dua Lipa]</td>\n",
              "      <td>Dance The Night (From Barbie The Album)</td>\n",
              "      <td>[https://i.scdn.co/image/ab67616d0000b2737dd3b...</td>\n",
              "      <td>[(640, 640), (300, 300), (64, 64)]</td>\n",
              "      <td>2023-05-25</td>\n",
              "      <td>176.579</td>\n",
              "      <td>97</td>\n",
              "      <td>False</td>\n",
              "      <td>...</td>\n",
              "      <td>0</td>\n",
              "      <td>0</td>\n",
              "      <td>0</td>\n",
              "      <td>0</td>\n",
              "      <td>0</td>\n",
              "      <td>1</td>\n",
              "      <td>0</td>\n",
              "      <td>0</td>\n",
              "      <td>1</td>\n",
              "      <td>0</td>\n",
              "    </tr>\n",
              "    <tr>\n",
              "      <th>3</th>\n",
              "      <td>1BxfuPKGuaTgP7aM0Bbdwr</td>\n",
              "      <td>Cruel Summer</td>\n",
              "      <td>[Taylor Swift]</td>\n",
              "      <td>Lover</td>\n",
              "      <td>[https://i.scdn.co/image/ab67616d0000b273e787c...</td>\n",
              "      <td>[(640, 640), (300, 300), (64, 64)]</td>\n",
              "      <td>2019-08-23</td>\n",
              "      <td>178.427</td>\n",
              "      <td>100</td>\n",
              "      <td>False</td>\n",
              "      <td>...</td>\n",
              "      <td>0</td>\n",
              "      <td>0</td>\n",
              "      <td>0</td>\n",
              "      <td>0</td>\n",
              "      <td>0</td>\n",
              "      <td>1</td>\n",
              "      <td>0</td>\n",
              "      <td>0</td>\n",
              "      <td>0</td>\n",
              "      <td>0</td>\n",
              "    </tr>\n",
              "    <tr>\n",
              "      <th>4</th>\n",
              "      <td>7x9aauaA9cu6tyfpHnqDLo</td>\n",
              "      <td>Seven (feat. Latto) (Explicit Ver.)</td>\n",
              "      <td>[Jung Kook, Latto]</td>\n",
              "      <td>Seven (feat. Latto)</td>\n",
              "      <td>[https://i.scdn.co/image/ab67616d0000b273bf5cc...</td>\n",
              "      <td>[(640, 640), (300, 300), (64, 64)]</td>\n",
              "      <td>2023-07-14</td>\n",
              "      <td>184.400</td>\n",
              "      <td>99</td>\n",
              "      <td>True</td>\n",
              "      <td>...</td>\n",
              "      <td>0</td>\n",
              "      <td>0</td>\n",
              "      <td>0</td>\n",
              "      <td>0</td>\n",
              "      <td>0</td>\n",
              "      <td>1</td>\n",
              "      <td>0</td>\n",
              "      <td>0</td>\n",
              "      <td>0</td>\n",
              "      <td>0</td>\n",
              "    </tr>\n",
              "  </tbody>\n",
              "</table>\n",
              "<p>5 rows × 55 columns</p>\n",
              "</div>\n",
              "    <div class=\"colab-df-buttons\">\n",
              "\n",
              "  <div class=\"colab-df-container\">\n",
              "    <button class=\"colab-df-convert\" onclick=\"convertToInteractive('df-b1dafb58-c9c6-4099-8728-f51db5ffc9ca')\"\n",
              "            title=\"Convert this dataframe to an interactive table.\"\n",
              "            style=\"display:none;\">\n",
              "\n",
              "  <svg xmlns=\"http://www.w3.org/2000/svg\" height=\"24px\" viewBox=\"0 -960 960 960\">\n",
              "    <path d=\"M120-120v-720h720v720H120Zm60-500h600v-160H180v160Zm220 220h160v-160H400v160Zm0 220h160v-160H400v160ZM180-400h160v-160H180v160Zm440 0h160v-160H620v160ZM180-180h160v-160H180v160Zm440 0h160v-160H620v160Z\"/>\n",
              "  </svg>\n",
              "    </button>\n",
              "\n",
              "  <style>\n",
              "    .colab-df-container {\n",
              "      display:flex;\n",
              "      gap: 12px;\n",
              "    }\n",
              "\n",
              "    .colab-df-convert {\n",
              "      background-color: #E8F0FE;\n",
              "      border: none;\n",
              "      border-radius: 50%;\n",
              "      cursor: pointer;\n",
              "      display: none;\n",
              "      fill: #1967D2;\n",
              "      height: 32px;\n",
              "      padding: 0 0 0 0;\n",
              "      width: 32px;\n",
              "    }\n",
              "\n",
              "    .colab-df-convert:hover {\n",
              "      background-color: #E2EBFA;\n",
              "      box-shadow: 0px 1px 2px rgba(60, 64, 67, 0.3), 0px 1px 3px 1px rgba(60, 64, 67, 0.15);\n",
              "      fill: #174EA6;\n",
              "    }\n",
              "\n",
              "    .colab-df-buttons div {\n",
              "      margin-bottom: 4px;\n",
              "    }\n",
              "\n",
              "    [theme=dark] .colab-df-convert {\n",
              "      background-color: #3B4455;\n",
              "      fill: #D2E3FC;\n",
              "    }\n",
              "\n",
              "    [theme=dark] .colab-df-convert:hover {\n",
              "      background-color: #434B5C;\n",
              "      box-shadow: 0px 1px 3px 1px rgba(0, 0, 0, 0.15);\n",
              "      filter: drop-shadow(0px 1px 2px rgba(0, 0, 0, 0.3));\n",
              "      fill: #FFFFFF;\n",
              "    }\n",
              "  </style>\n",
              "\n",
              "    <script>\n",
              "      const buttonEl =\n",
              "        document.querySelector('#df-b1dafb58-c9c6-4099-8728-f51db5ffc9ca button.colab-df-convert');\n",
              "      buttonEl.style.display =\n",
              "        google.colab.kernel.accessAllowed ? 'block' : 'none';\n",
              "\n",
              "      async function convertToInteractive(key) {\n",
              "        const element = document.querySelector('#df-b1dafb58-c9c6-4099-8728-f51db5ffc9ca');\n",
              "        const dataTable =\n",
              "          await google.colab.kernel.invokeFunction('convertToInteractive',\n",
              "                                                    [key], {});\n",
              "        if (!dataTable) return;\n",
              "\n",
              "        const docLinkHtml = 'Like what you see? Visit the ' +\n",
              "          '<a target=\"_blank\" href=https://colab.research.google.com/notebooks/data_table.ipynb>data table notebook</a>'\n",
              "          + ' to learn more about interactive tables.';\n",
              "        element.innerHTML = '';\n",
              "        dataTable['output_type'] = 'display_data';\n",
              "        await google.colab.output.renderOutput(dataTable, element);\n",
              "        const docLink = document.createElement('div');\n",
              "        docLink.innerHTML = docLinkHtml;\n",
              "        element.appendChild(docLink);\n",
              "      }\n",
              "    </script>\n",
              "  </div>\n",
              "\n",
              "\n",
              "<div id=\"df-855f48dd-9fc8-4b0a-82c8-333aac95d552\">\n",
              "  <button class=\"colab-df-quickchart\" onclick=\"quickchart('df-855f48dd-9fc8-4b0a-82c8-333aac95d552')\"\n",
              "            title=\"Suggest charts.\"\n",
              "            style=\"display:none;\">\n",
              "\n",
              "<svg xmlns=\"http://www.w3.org/2000/svg\" height=\"24px\"viewBox=\"0 0 24 24\"\n",
              "     width=\"24px\">\n",
              "    <g>\n",
              "        <path d=\"M19 3H5c-1.1 0-2 .9-2 2v14c0 1.1.9 2 2 2h14c1.1 0 2-.9 2-2V5c0-1.1-.9-2-2-2zM9 17H7v-7h2v7zm4 0h-2V7h2v10zm4 0h-2v-4h2v4z\"/>\n",
              "    </g>\n",
              "</svg>\n",
              "  </button>\n",
              "\n",
              "<style>\n",
              "  .colab-df-quickchart {\n",
              "      --bg-color: #E8F0FE;\n",
              "      --fill-color: #1967D2;\n",
              "      --hover-bg-color: #E2EBFA;\n",
              "      --hover-fill-color: #174EA6;\n",
              "      --disabled-fill-color: #AAA;\n",
              "      --disabled-bg-color: #DDD;\n",
              "  }\n",
              "\n",
              "  [theme=dark] .colab-df-quickchart {\n",
              "      --bg-color: #3B4455;\n",
              "      --fill-color: #D2E3FC;\n",
              "      --hover-bg-color: #434B5C;\n",
              "      --hover-fill-color: #FFFFFF;\n",
              "      --disabled-bg-color: #3B4455;\n",
              "      --disabled-fill-color: #666;\n",
              "  }\n",
              "\n",
              "  .colab-df-quickchart {\n",
              "    background-color: var(--bg-color);\n",
              "    border: none;\n",
              "    border-radius: 50%;\n",
              "    cursor: pointer;\n",
              "    display: none;\n",
              "    fill: var(--fill-color);\n",
              "    height: 32px;\n",
              "    padding: 0;\n",
              "    width: 32px;\n",
              "  }\n",
              "\n",
              "  .colab-df-quickchart:hover {\n",
              "    background-color: var(--hover-bg-color);\n",
              "    box-shadow: 0 1px 2px rgba(60, 64, 67, 0.3), 0 1px 3px 1px rgba(60, 64, 67, 0.15);\n",
              "    fill: var(--button-hover-fill-color);\n",
              "  }\n",
              "\n",
              "  .colab-df-quickchart-complete:disabled,\n",
              "  .colab-df-quickchart-complete:disabled:hover {\n",
              "    background-color: var(--disabled-bg-color);\n",
              "    fill: var(--disabled-fill-color);\n",
              "    box-shadow: none;\n",
              "  }\n",
              "\n",
              "  .colab-df-spinner {\n",
              "    border: 2px solid var(--fill-color);\n",
              "    border-color: transparent;\n",
              "    border-bottom-color: var(--fill-color);\n",
              "    animation:\n",
              "      spin 1s steps(1) infinite;\n",
              "  }\n",
              "\n",
              "  @keyframes spin {\n",
              "    0% {\n",
              "      border-color: transparent;\n",
              "      border-bottom-color: var(--fill-color);\n",
              "      border-left-color: var(--fill-color);\n",
              "    }\n",
              "    20% {\n",
              "      border-color: transparent;\n",
              "      border-left-color: var(--fill-color);\n",
              "      border-top-color: var(--fill-color);\n",
              "    }\n",
              "    30% {\n",
              "      border-color: transparent;\n",
              "      border-left-color: var(--fill-color);\n",
              "      border-top-color: var(--fill-color);\n",
              "      border-right-color: var(--fill-color);\n",
              "    }\n",
              "    40% {\n",
              "      border-color: transparent;\n",
              "      border-right-color: var(--fill-color);\n",
              "      border-top-color: var(--fill-color);\n",
              "    }\n",
              "    60% {\n",
              "      border-color: transparent;\n",
              "      border-right-color: var(--fill-color);\n",
              "    }\n",
              "    80% {\n",
              "      border-color: transparent;\n",
              "      border-right-color: var(--fill-color);\n",
              "      border-bottom-color: var(--fill-color);\n",
              "    }\n",
              "    90% {\n",
              "      border-color: transparent;\n",
              "      border-bottom-color: var(--fill-color);\n",
              "    }\n",
              "  }\n",
              "</style>\n",
              "\n",
              "  <script>\n",
              "    async function quickchart(key) {\n",
              "      const quickchartButtonEl =\n",
              "        document.querySelector('#' + key + ' button');\n",
              "      quickchartButtonEl.disabled = true;  // To prevent multiple clicks.\n",
              "      quickchartButtonEl.classList.add('colab-df-spinner');\n",
              "      try {\n",
              "        const charts = await google.colab.kernel.invokeFunction(\n",
              "            'suggestCharts', [key], {});\n",
              "      } catch (error) {\n",
              "        console.error('Error during call to suggestCharts:', error);\n",
              "      }\n",
              "      quickchartButtonEl.classList.remove('colab-df-spinner');\n",
              "      quickchartButtonEl.classList.add('colab-df-quickchart-complete');\n",
              "    }\n",
              "    (() => {\n",
              "      let quickchartButtonEl =\n",
              "        document.querySelector('#df-855f48dd-9fc8-4b0a-82c8-333aac95d552 button');\n",
              "      quickchartButtonEl.style.display =\n",
              "        google.colab.kernel.accessAllowed ? 'block' : 'none';\n",
              "    })();\n",
              "  </script>\n",
              "</div>\n",
              "    </div>\n",
              "  </div>\n"
            ]
          },
          "metadata": {},
          "execution_count": 19
        }
      ]
    },
    {
      "cell_type": "markdown",
      "source": [
        "## Exporting the data"
      ],
      "metadata": {
        "id": "oRJaj3x-sUxu"
      }
    },
    {
      "cell_type": "markdown",
      "source": [
        "Export dataframe to CSV format, and save locally on your machine:"
      ],
      "metadata": {
        "id": "J1-l-Fd7-lX-"
      }
    },
    {
      "cell_type": "code",
      "source": [
        "track_df.to_csv('default_track_data.csv', index=False)\n",
        "files.download('default_track_data.csv')\n",
        "\n",
        "with open('default_playlists.json', 'w') as f:\n",
        "        json.dump(playlists, f, indent=2)\n",
        "\n",
        "files.download('default_playlists.json')\n",
        "\n",
        "dt = datetime.now().strftime(\"%d-%b-%Y (%H:%M:%S.%f)\")\n",
        "\n",
        "with open('default_data_timestamp.txt', 'w') as f:\n",
        "        f.write(dt)\n",
        "\n",
        "files.download('default_data_timestamp.txt');"
      ],
      "metadata": {
        "colab": {
          "base_uri": "https://localhost:8080/",
          "height": 17
        },
        "id": "jbtVmAUn-UPy",
        "outputId": "97c256ba-86fb-4671-ae9d-72bc8b3ead3a"
      },
      "execution_count": null,
      "outputs": [
        {
          "output_type": "display_data",
          "data": {
            "text/plain": [
              "<IPython.core.display.Javascript object>"
            ],
            "application/javascript": [
              "\n",
              "    async function download(id, filename, size) {\n",
              "      if (!google.colab.kernel.accessAllowed) {\n",
              "        return;\n",
              "      }\n",
              "      const div = document.createElement('div');\n",
              "      const label = document.createElement('label');\n",
              "      label.textContent = `Downloading \"${filename}\": `;\n",
              "      div.appendChild(label);\n",
              "      const progress = document.createElement('progress');\n",
              "      progress.max = size;\n",
              "      div.appendChild(progress);\n",
              "      document.body.appendChild(div);\n",
              "\n",
              "      const buffers = [];\n",
              "      let downloaded = 0;\n",
              "\n",
              "      const channel = await google.colab.kernel.comms.open(id);\n",
              "      // Send a message to notify the kernel that we're ready.\n",
              "      channel.send({})\n",
              "\n",
              "      for await (const message of channel.messages) {\n",
              "        // Send a message to notify the kernel that we're ready.\n",
              "        channel.send({})\n",
              "        if (message.buffers) {\n",
              "          for (const buffer of message.buffers) {\n",
              "            buffers.push(buffer);\n",
              "            downloaded += buffer.byteLength;\n",
              "            progress.value = downloaded;\n",
              "          }\n",
              "        }\n",
              "      }\n",
              "      const blob = new Blob(buffers, {type: 'application/binary'});\n",
              "      const a = document.createElement('a');\n",
              "      a.href = window.URL.createObjectURL(blob);\n",
              "      a.download = filename;\n",
              "      div.appendChild(a);\n",
              "      a.click();\n",
              "      div.remove();\n",
              "    }\n",
              "  "
            ]
          },
          "metadata": {}
        },
        {
          "output_type": "display_data",
          "data": {
            "text/plain": [
              "<IPython.core.display.Javascript object>"
            ],
            "application/javascript": [
              "download(\"download_3bf06622-59d1-431c-91c3-0a960784bf2c\", \"default_playlists.json\", 493)"
            ]
          },
          "metadata": {}
        }
      ]
    },
    {
      "cell_type": "markdown",
      "source": [
        "You're now ready to move on to the next notebook, Part 2: The Analysis."
      ],
      "metadata": {
        "id": "TQWLps_1EoYj"
      }
    }
  ]
}